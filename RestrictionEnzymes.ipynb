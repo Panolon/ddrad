{
 "cells": [
  {
   "cell_type": "markdown",
   "id": "0e9b43a6",
   "metadata": {},
   "source": [
    "## DDrad sequencing\n",
    "\n",
    "In this project we try to implement DDrad sequencing. In order to eliminate the cost of sequencing we utilize restriction enzymes. Those enzymes cut the dna sequence in specific fragments related to their site ending up with subsequences having significant smaller length than the original dna sequence. \n",
    "The next step is mapping. Utilizing algorithms like bwa and samtools, we try to find the best map for a set of wine varieties in a reference genome.\n",
    "In the last step, we analyse the SNPs on those fragments with respect to the genome, trying to investigate which couple of restriction enzymes is giving the largest fragments with the maximum number of SNPs. This is useful because the SNPs could be seen as an identifier for a wine variety."
   ]
  },
  {
   "cell_type": "code",
   "execution_count": 195,
   "id": "fa53235b",
   "metadata": {},
   "outputs": [],
   "source": [
    "# For analysis purpose we use the restriction enzyme package from library Bio.Restriction\n",
    "#\n",
    "# load libraries\n",
    "\n",
    "import pandas as pd\n",
    "from Bio import SeqIO, Restriction\n",
    "from Bio.SeqUtils import nt_search\n",
    "from Bio.Seq import Seq\n",
    "import os\n",
    "import sys\n",
    "import seaborn as sn\n",
    "import pylab as pl\n",
    "import numpy as np\n",
    "import PyPDF2 as pdf"
   ]
  },
  {
   "cell_type": "code",
   "execution_count": 71,
   "id": "806753d4",
   "metadata": {},
   "outputs": [],
   "source": [
    "# Load information about restriction enzymes\n",
    "renAll = Restriction.AllEnzymes"
   ]
  },
  {
   "cell_type": "markdown",
   "id": "69ab9759",
   "metadata": {},
   "source": [
    "Here are the attributes of AllEnzymes\n",
    "\n",
    "'add',\n",
    " 'add_nocheck',\n",
    " 'add_supplier',\n",
    " 'already_mapped',\n",
    " 'as_string',\n",
    " 'clear',\n",
    " 'copy',\n",
    " 'current_suppliers',\n",
    " 'difference',\n",
    " 'difference_update',\n",
    " 'discard',\n",
    " 'elements',\n",
    " 'format',\n",
    " 'get',\n",
    " 'intersection',\n",
    " 'intersection_update',\n",
    " 'is_restriction',\n",
    " 'isdisjoint',\n",
    " 'issubset',\n",
    " 'issuperset',\n",
    " 'lambdasplit',\n",
    " 'mapping',\n",
    " 'pop',\n",
    " 'remove',\n",
    " 'search',\n",
    " 'show_codes',\n",
    " 'split',\n",
    " 'suppl_codes',\n",
    " 'suppliers',\n",
    " 'symmetric_difference',\n",
    " 'symmetric_difference_update',\n",
    " 'union',\n",
    " 'update'\n",
    " "
   ]
  },
  {
   "cell_type": "code",
   "execution_count": 72,
   "id": "daf62d88",
   "metadata": {},
   "outputs": [
    {
     "name": "stdout",
     "output_type": "stream",
     "text": [
      "Restriction enzymes are 1065\n",
      "AanI AarI AasI AatII Aba13301I Aba6411II AbaB8342IV AbaCIII AbaPBA3II AbaSI  and so on...\n"
     ]
    }
   ],
   "source": [
    "#number of restriction enzymes\n",
    "print(\"Restriction enzymes are\",len(renAll.elements()))\n",
    "for e in renAll.elements()[:10]:\n",
    "    print(e, end = \" \")\n",
    "print(\" and so on...\")"
   ]
  },
  {
   "cell_type": "code",
   "execution_count": 73,
   "id": "225d3f57",
   "metadata": {},
   "outputs": [
    {
     "name": "stdout",
     "output_type": "stream",
     "text": [
      "all_suppliers   buffers   catalyse   catalyze   charac   characteristic   compatible_end   compsite   cut_once   cut_twice   dna   elucidate   equischizomers   freq   frequency   fst3   fst5   id   inact_temp   is_3overhang   is_5overhang   is_ambiguous   is_blunt   is_comm   is_defined   is_equischizomer   is_isoschizomer   is_methylable   is_neoschizomer   is_palindromic   is_unknown   isoschizomers   mro   neoschizomers   opt_temp   overhang   ovhg   ovhgseq   results   scd3   scd5   search   site   size   substrat   suppl   supplier_list   suppliers   uri   "
     ]
    }
   ],
   "source": [
    "#attributes of enzyme class\n",
    "for at in dir(renAll.get(\"BcoDI\"))[59:]:\n",
    "    print(at, end = \"   \")"
   ]
  },
  {
   "cell_type": "code",
   "execution_count": 123,
   "id": "092d8c5b",
   "metadata": {},
   "outputs": [],
   "source": [
    "# Read additional information about restriction enzymes from xlsx file\n",
    "infofile = pd.read_csv(\"/home/loukas/Documents/bioinformatics/ddrad RE double digest.xlsx - RE characteristics.tsv\", sep=\"\\t\")\n",
    "#infofile"
   ]
  },
  {
   "cell_type": "code",
   "execution_count": 196,
   "id": "04c877ea",
   "metadata": {},
   "outputs": [],
   "source": [
    "#infofile.columns"
   ]
  },
  {
   "cell_type": "code",
   "execution_count": 197,
   "id": "04959928",
   "metadata": {},
   "outputs": [
    {
     "name": "stdout",
     "output_type": "stream",
     "text": [
      "These are the 64 palindromic enzymes\n",
      "\n",
      "AatII  Acc65I  AclI  AflII  AgeI  ApaI  ApaLI  AscI  AseI  AsiSI  AvrII  BamHI  BclI  BfaI  BfuCI  BglII  BmtI  BsiWI  BspDI  BspEI  BspHI  BsrGI  BssHII  BstBI  CviAII  CviQI  EagI  EcoRI  FatI  FseI  HhaI  HindIII  HinP1I  HpaI  HpyCH4IV  KasI  KpnI  MluCI  MluI  MseI  NarI  NcoI  NdeI  NgoMIV  NheI  NlaIII  NotI  NsiI  PacI  PaeR7I  PciI  PluTI  PspOMI  PstI  PvuI  SacI  SacII  SalI  SbfI  SpeI  SphI  TaqaI  TspMI  XbaI  "
     ]
    }
   ],
   "source": [
    "palindromic_indexes = infofile[\"Palindromic enzymes\"] == \"Yes\"\n",
    "\n",
    "# Select palindromic enzymes\n",
    "restr = infofile.loc[palindromic_indexes, \"RE\"]\n",
    "\n",
    "print(\"These are the {} palindromic enzymes\\n\".format(len(restr)))\n",
    "for e in restr:\n",
    "    print(e, end=\"  \")\n",
    "    "
   ]
  },
  {
   "cell_type": "code",
   "execution_count": 198,
   "id": "894deeba",
   "metadata": {},
   "outputs": [],
   "source": [
    "# Extract recognition sites of palindromic enzymes\n",
    "restrsites = infofile.loc[palindromic_indexes, \"recognition site /cut\"]\n",
    "restrsites = restrsites.str.replace(\"/\", \"\")\n",
    "restrsites = pd.Series(restrsites.values, index=infofile.loc[palindromic_indexes, \"RE\"])"
   ]
  },
  {
   "cell_type": "code",
   "execution_count": 201,
   "id": "da9c6c39",
   "metadata": {},
   "outputs": [
    {
     "name": "stdout",
     "output_type": "stream",
     "text": [
      "These are the enzymes with the same site\n",
      "\n",
      "Acc65I : GGTACC, KpnI : GGTACC\n",
      "ApaI : GGGCCC, PspOMI : GGGCCC\n",
      "BmtI : GCTAGC, NheI : GCTAGC\n",
      "CviAII : CATG, FatI : CATG\n",
      "CviAII : CATG, NlaIII : CATG\n",
      "FatI : CATG, NlaIII : CATG\n",
      "HhaI : GCGC, HinP1I : GCGC\n",
      "KasI : GGCGCC, NarI : GGCGCC\n",
      "KasI : GGCGCC, PluTI : GGCGCC\n",
      "NarI : GGCGCC, PluTI : GGCGCC\n",
      "\n",
      "There are 54 palindromic restriction enzymes left\n"
     ]
    }
   ],
   "source": [
    "# Keep all the palindromic enzymes in RestrictionBatch class\n",
    "\n",
    "from Bio.Restriction import *\n",
    "\n",
    "renz = RestrictionBatch([])\n",
    "renz2 = []\n",
    "\n",
    "for i in restr.index:\n",
    "#    print(i, restr[i], end=\"  \")\n",
    "    if i not in [39,205]:\n",
    "        renz.add(restr[i])\n",
    "        \n",
    "print(\"These are the enzymes with the same site\\n\")\n",
    "# drop enzymes with same site\n",
    "for i in range(len(renz.elements()) - 1):\n",
    "    e1 = renz.get(renz.elements()[i])\n",
    "    for j in range(i+1,len(renz.elements())):\n",
    "        e2 = renz.get(renz.elements()[j])\n",
    "        if e1.site == e2.site:\n",
    "            print(f\"{e1} : {e1.site}, {e2} : {e2.site}\")\n",
    "            renz2.append(e2)\n",
    "\n",
    "for e in renz2:\n",
    "    if e in renz:\n",
    "        renz.remove(e)\n",
    "            \n",
    "print(\"\\nThere are {} palindromic restriction enzymes left\".format(len(renz)))"
   ]
  },
  {
   "cell_type": "code",
   "execution_count": 202,
   "id": "29eb5711",
   "metadata": {},
   "outputs": [
    {
     "name": "stdout",
     "output_type": "stream",
     "text": [
      "Enzymes frequent : 7 \n",
      "BfaI+CviAII...MluCI+MseI\n",
      "\n",
      "Enzymes rare : 47 \n",
      "AatII+Acc65I...TspMI+XbaI\n"
     ]
    }
   ],
   "source": [
    "# Categorize recognition sites into \"frequent\" if len == 4 otherwise \"rare\" \n",
    "frequent = RestrictionBatch([])\n",
    "rare = RestrictionBatch([])\n",
    "\n",
    "for e in renz:\n",
    "    if e.size == 4:\n",
    "        frequent.add(e)\n",
    "    else:\n",
    "        rare.add(e)\n",
    "\n",
    "print(\"Enzymes frequent : {} \\n{}\".format(len(frequent),frequent))\n",
    "print(\"\\nEnzymes rare : {} \\n{}\".format(len(rare),rare))"
   ]
  },
  {
   "cell_type": "markdown",
   "id": "2641b904",
   "metadata": {},
   "source": [
    "There are 47 rare and 7 frequent restriction enzymes resulting in $47 \\cdot 7 = 329$ distinct couples."
   ]
  },
  {
   "cell_type": "code",
   "execution_count": 81,
   "id": "3db9e834",
   "metadata": {},
   "outputs": [
    {
     "name": "stdout",
     "output_type": "stream",
     "text": [
      "\n",
      "Total size: 248\n"
     ]
    }
   ],
   "source": [
    "# Load 19 chromosomes of Vitis Vinifera\n",
    "file = \"/home/loukas/Documents/bioinformatics/Vitis_vinifera.fa.gz\"\n",
    "seqs = list(SeqIO.parse(file, \"fasta\"))\n",
    "\n",
    "print(\"\\nTotal size:\",sys.getsizeof(seqs))"
   ]
  },
  {
   "cell_type": "code",
   "execution_count": 82,
   "id": "b210af23",
   "metadata": {},
   "outputs": [
    {
     "name": "stdout",
     "output_type": "stream",
     "text": [
      "annotations  count  dbxrefs  description  features  format  id  islower  isupper  letter_annotations  lower  name  reverse_complement  seq  translate  upper  "
     ]
    }
   ],
   "source": [
    "# attributes and methods for dna sequence\n",
    "for at in dir(seqs[0])[38:]:\n",
    "    print(at,end=\"  \")"
   ]
  },
  {
   "cell_type": "code",
   "execution_count": 83,
   "id": "8bdc1d57",
   "metadata": {},
   "outputs": [],
   "source": [
    "# cut the chromosome with a pair of enzymes in O(n), where n the legth of chromosome\n",
    "# returns the positions of the double digest fragments\n",
    "\n",
    "def double_digest(chromosome,enz1, enz2):\n",
    "    enzpos1 = enz1.search(chromosome.seq)\n",
    "    enzpos2 = enz2.search(chromosome.seq)\n",
    "    ddpos = []; start = []; end = []\n",
    "    i=0; j=0\n",
    "    \n",
    "    if enzpos1[0] < enzpos2[0]:\n",
    "        start = enzpos1\n",
    "        end = enzpos2\n",
    "    else:\n",
    "        start = enzpos2\n",
    "        end = enzpos1\n",
    "\n",
    "    while i < len(start) and j < len(end):\n",
    "        while i < len(start) and start[i] <= end[j]:\n",
    "            i+=1\n",
    "        \n",
    "        if i == len(start):\n",
    "            ddpos.append(start[i-1])\n",
    "            ddpos.append(end[j])\n",
    "            return ddpos\n",
    "        \n",
    "        ddpos.append(start[i-1])\n",
    "        ddpos.append(end[j])\n",
    "        \n",
    "        while  j < len(end) and  end[j] <= start[i]:\n",
    "            j+=1\n",
    "        \n",
    "        if j == len(end):\n",
    "            ddpos.append(end[j-1])\n",
    "            ddpos.append(start[i])\n",
    "            return ddpos\n",
    "        \n",
    "        ddpos.append(end[j-1])\n",
    "        ddpos.append(start[i])\n",
    "        \n",
    "    return ddpos\n"
   ]
  },
  {
   "cell_type": "code",
   "execution_count": 194,
   "id": "40472794",
   "metadata": {},
   "outputs": [],
   "source": [
    "# double digest and keep fragments with 200 <= length <= 600\n",
    "# fragments for each couple are stored in fasta file format:\n",
    "# > enzyme1, enzyme2, chromosome_id, length\n",
    "# ACGTGTG....\n",
    "\n",
    "def ddcut():\n",
    "    os.chdir(\"/home/loukas/Documents/bioinformatics\")\n",
    "\n",
    "    for ch_num in range(10,19):\n",
    "        ch = seqs[ch_num]\n",
    "        path = \"chromosome\" + str(ch.id)\n",
    "        os.mkdir(path)\n",
    "        os.chdir(path)\n",
    "        for i in range(len(frequent.elements())):\n",
    "            e1 = frequent.get(frequent.elements()[i])\n",
    "            for j in range(len(rare.elements())):\n",
    "                e2 = rare.get(rare.elements()[j])\n",
    "                dd = double_digest(ch,e1,e2)\n",
    "\n",
    "                #write to file\n",
    "                filename = \"chromosome\" + ch.id + str(e1) + str(e2) + \".fasta\"\n",
    "                with open(filename, \"w\") as file1:\n",
    "                    for k in range(0,len(dd),2):\n",
    "                        if len(ch.seq[dd[k]-1:dd[k+1]-1]) >= 200 and len(ch.seq[dd[k]-1:dd[k+1]-1]) <= 600:\n",
    "                            file1.write(\" \".join([\">\", str(e1), str(e2), str(k), \"chromosome_id\", ch.id, \"length\", str(len(ch.seq[dd[k]-1:dd[k+1]-1])), \"\\n\"]))\n",
    "                            file1.write(str(ch.seq[dd[k]-1:dd[k+1]-1]) + \"\\n\")\n",
    "\n",
    "        os.chdir(\"/home/loukas/Documents/bioinformatics\")\n",
    "\n",
    "#ddcut()"
   ]
  },
  {
   "cell_type": "code",
   "execution_count": 175,
   "id": "d4b6aa66",
   "metadata": {},
   "outputs": [],
   "source": [
    "# function that yields every line in fasta file without storing in RAM\n",
    "import os\n",
    "import os.path\n",
    "\n",
    "def read_fasta(chromosome, enz1,enz2):\n",
    "    if os.path.exists(\"/home/loukas/Documents/bioinformatics/chromosome\"+str(chromosome.id))==False:\n",
    "        print(\"No such file or directory /home/loukas/Documents/bioinformatics/chromosome\"+str(chromosome.id))\n",
    "        return -1\n",
    "    \n",
    "    os.chdir(\"/home/loukas/Documents/bioinformatics/chromosome\"+str(chromosome.id))\n",
    "    \n",
    "    filename = \"chromosome\"+str(chromosome.id)+str(enz1)+str(enz2)+\".fasta\"\n",
    "    \n",
    "    if os.path.exists(filename)==False:\n",
    "        filename = \"chromosome\"+str(chromosome.id)+str(enz2)+str(enz1)+\".fasta\"\n",
    "    \n",
    "    with open(filename, \"r\") as handle:\n",
    "        for line in handle:\n",
    "            yield line"
   ]
  },
  {
   "cell_type": "code",
   "execution_count": 178,
   "id": "03ea52f9",
   "metadata": {},
   "outputs": [],
   "source": [
    "# matrices for statistics\n",
    "\n",
    "resMat = pd.DataFrame(0, index=frequent.elements(), columns=rare.elements() )\n",
    "\n",
    "# number of fragments for each couple\n",
    "resMatNumFrag = resMat.copy()\n",
    "# summation of cut lengths for each combination\n",
    "resMatLengths = resMat.copy()\n",
    "# length fragments for each couple\n",
    "resMatDistr = pd.DataFrame(list(), index=resMat.index, columns=resMat.columns)"
   ]
  },
  {
   "cell_type": "code",
   "execution_count": 203,
   "id": "255151e6",
   "metadata": {},
   "outputs": [],
   "source": [
    "# read the .fasta file from chromosome and build matrices for statistics\n",
    "\n",
    "def build_matrices(chromid):\n",
    "    os.chdir(\"/home/loukas/Documents/bioinformatics/\")\n",
    "    i=0\n",
    "    while i < len(seqs) and int(seqs[i].id) != chromid:\n",
    "#        print(i,seqs[i].id, chromid)\n",
    "        i+=1\n",
    "    \n",
    "    if i == len(seqs):\n",
    "        print(f\"{chromid} id was not found\\n\")\n",
    "        return -1\n",
    "\n",
    "    ch = seqs[i]\n",
    "    \n",
    "    mnl = []\n",
    "    std = []\n",
    "    frq = []\n",
    "\n",
    "    for i in range(len(frequent.elements())):\n",
    "        e1 = frequent.elements()[i]\n",
    "        for j in range(len(rare.elements())):\n",
    "            e2 = rare.elements()[j]\n",
    "            num_frag = 0\n",
    "            len_frag = []\n",
    "            for l in read_fasta(ch,e1,e2):\n",
    "                if l[0]==\">\":\n",
    "                    num_frag += 1\n",
    "                    len_frag.append(int(l.split()[-1]))\n",
    "            resMatNumFrag.loc[e1,e2] = num_frag\n",
    "            resMatLengths.loc[e1,e2] = sum(len_frag)\n",
    "            resMatDistr.loc[e1,e2] = len_frag\n",
    "    \n",
    "    return 0"
   ]
  },
  {
   "cell_type": "code",
   "execution_count": 204,
   "id": "79845f28",
   "metadata": {},
   "outputs": [],
   "source": [
    "canLengths = pd.DataFrame(0, index=resMatLengths.index, columns = resMatLengths.columns)\n",
    "canLengths = resMatLengths.map(lambda x: (x-min(resMatLengths.unstack())) / (max(resMatLengths.unstack()) - min(resMatLengths.unstack())) )\n",
    "\n",
    "#canLengths"
   ]
  },
  {
   "cell_type": "code",
   "execution_count": 205,
   "id": "a36dfc0b",
   "metadata": {},
   "outputs": [],
   "source": [
    "canFrags = pd.DataFrame(0, index=resMatLengths.index, columns = resMatLengths.columns)\n",
    "canFrags = resMatNumFrag.map(lambda x: (x-min(resMatNumFrag.unstack())) / (max(resMatNumFrag.unstack()) - min(resMatNumFrag.unstack())) )\n",
    "\n",
    "#canFrags"
   ]
  },
  {
   "cell_type": "code",
   "execution_count": 206,
   "id": "8df78881",
   "metadata": {},
   "outputs": [],
   "source": [
    "resMatDistr = resMatDistr.fillna(0)\n",
    "#resMatDistr.iloc[:10,:10]"
   ]
  },
  {
   "cell_type": "code",
   "execution_count": 207,
   "id": "5b1bc449",
   "metadata": {},
   "outputs": [],
   "source": [
    "# function for heatmap\n",
    "\n",
    "def heatmap_(dataframe,fname, title):\n",
    "    pl.figure(figsize=(18,8))\n",
    "    hm = sn.heatmap(dataframe, cmap=\"Spectral\",xticklabels=\"auto\", yticklabels=\"auto\",linewidths=0.5,annot=False)\n",
    "\n",
    "    pl.tight_layout()\n",
    "    pl.title(title+\" \\n\")\n",
    "    pl.savefig(\"/home/loukas/Documents/bioinformatics/\"+fname+\".pdf\",format=\"pdf\",dpi=600, orientation='landscape')\n",
    "    pl.show()\n"
   ]
  },
  {
   "cell_type": "code",
   "execution_count": 208,
   "id": "7903b557",
   "metadata": {},
   "outputs": [
    {
     "data": {
      "image/png": "[encoded data removed]",
      "text/plain": [
       "<Figure size 1296x576 with 2 Axes>"
      ]
     },
     "metadata": {
      "needs_background": "light"
     },
     "output_type": "display_data"
    },
    {
     "name": "stdout",
     "output_type": "stream",
     "text": [
      "Top-10 enzymes with the largest summation of lengths:\n",
      "\n",
      "AseI     BfaI        3411305\n",
      "         CviQI       3302856\n",
      "         CviAII      3129748\n",
      "NsiI     BfaI        2567837\n",
      "         CviQI       2430367\n",
      "HindIII  BfaI        2427450\n",
      "         CviQI       2352923\n",
      "AseI     HpyCH4IV    2348085\n",
      "BclI     BfaI        2292827\n",
      "BspHI    BfaI        2249373\n",
      "dtype: int64\n"
     ]
    }
   ],
   "source": [
    "lengthsTop10 = resMatLengths.unstack().nlargest(10)\n",
    "heatmap_(resMatLengths,\"fraglen\", \"\\n\\nSum of Lengths\")\n",
    "\n",
    "print(\"Top-10 enzymes with the largest summation of lengths:\\n\")\n",
    "print(lengthsTop10)"
   ]
  },
  {
   "cell_type": "code",
   "execution_count": 209,
   "id": "376ac0dc",
   "metadata": {
    "scrolled": true
   },
   "outputs": [
    {
     "name": "stdout",
     "output_type": "stream",
     "text": [
      "Top-10 enzymes with the largest number of fragments:\n",
      "\n",
      "AseI     BfaI        9559\n",
      "         CviAII      9302\n",
      "         CviQI       9012\n",
      "NsiI     BfaI        7184\n",
      "HindIII  BfaI        6826\n",
      "NsiI     CviQI       6613\n",
      "HindIII  CviQI       6391\n",
      "BclI     BfaI        6354\n",
      "AseI     HpyCH4IV    6322\n",
      "BspHI    BfaI        6251\n",
      "dtype: int64\n"
     ]
    },
    {
     "data": {
      "image/png": "[encoded data removed]",
      "text/plain": [
       "<Figure size 1296x576 with 2 Axes>"
      ]
     },
     "metadata": {
      "needs_background": "light"
     },
     "output_type": "display_data"
    }
   ],
   "source": [
    "# Number of fragments per enzyme\n",
    "\n",
    "numFragTop10 = resMatNumFrag.unstack().nlargest(10)\n",
    "print(\"Top-10 enzymes with the largest number of fragments:\\n\")\n",
    "print(numFragTop10)\n",
    "\n",
    "heatmap_(resMatNumFrag,\"Numfrags\",\"Number of Fragments \")\n"
   ]
  },
  {
   "cell_type": "code",
   "execution_count": 210,
   "id": "166aa823",
   "metadata": {},
   "outputs": [],
   "source": [
    "# meanDistr\n",
    "meanDistr = resMatDistr.map(lambda x: np.mean(x))\n",
    "stdDistr = resMatDistr.map(lambda x: np.std(x))"
   ]
  },
  {
   "cell_type": "code",
   "execution_count": 211,
   "id": "83ede09d",
   "metadata": {},
   "outputs": [],
   "source": [
    "#meanDistr\n",
    "\n",
    "canMean = pd.DataFrame(0, index=meanDistr.index, columns = meanDistr.columns)\n",
    "canMean = meanDistr.map(lambda x: (x-min(meanDistr.unstack())) / (max(meanDistr.unstack()) - min(meanDistr.unstack())) )\n",
    "\n",
    "#canMean"
   ]
  },
  {
   "cell_type": "code",
   "execution_count": 212,
   "id": "e7ee654e",
   "metadata": {},
   "outputs": [],
   "source": [
    "stdDistr\n",
    "\n",
    "canStd = pd.DataFrame(0, index=stdDistr.index, columns = stdDistr.columns)\n",
    "canStd = stdDistr.map(lambda x: (x-min(stdDistr.unstack())) / (max(stdDistr.unstack()) - min(stdDistr.unstack())) )\n",
    "\n",
    "#canStd"
   ]
  },
  {
   "cell_type": "code",
   "execution_count": 213,
   "id": "a8f8b2c9",
   "metadata": {},
   "outputs": [
    {
     "name": "stdout",
     "output_type": "stream",
     "text": [
      "Top-10 enzymes with smallest std lengths\n",
      "\n",
      "AscI     HhaI        18.208667\n",
      "         HpyCH4IV    64.488836\n",
      "AsiSI    MluCI       64.897877\n",
      "NotI     HhaI        68.892473\n",
      "AsiSI    HpyCH4IV    71.474160\n",
      "         BfaI        81.266219\n",
      "FseI     MseI        85.542901\n",
      "HpaI     MluCI       88.422196\n",
      "HindIII  MluCI       90.531095\n",
      "BsrGI    MluCI       90.551675\n",
      "dtype: float64\n"
     ]
    },
    {
     "data": {
      "image/png": "[encoded data removed]",
      "text/plain": [
       "<Figure size 1296x576 with 2 Axes>"
      ]
     },
     "metadata": {
      "needs_background": "light"
     },
     "output_type": "display_data"
    }
   ],
   "source": [
    "# Deviations\n",
    "\n",
    "stdBottom10 = stdDistr.unstack().nsmallest(10)\n",
    "print(\"Top-10 enzymes with smallest std lengths\\n\")\n",
    "print(stdBottom10)\n",
    "\n",
    "heatmap_(stdDistr,\"deviationHeatmap\", \"Deviations\")"
   ]
  },
  {
   "cell_type": "code",
   "execution_count": 214,
   "id": "6bbdc291",
   "metadata": {},
   "outputs": [
    {
     "name": "stdout",
     "output_type": "stream",
     "text": [
      "Top-10 enzymes with largest mean lengths\n",
      "\n",
      "HpaI   HhaI        407.752809\n",
      "NotI   CviQI       404.555556\n",
      "PvuI   HpyCH4IV    403.964467\n",
      "SpeI   HhaI        398.209932\n",
      "AclI   HpyCH4IV    397.712291\n",
      "PacI   HhaI        396.436620\n",
      "AclI   HhaI        395.354667\n",
      "BglII  HhaI        394.835556\n",
      "AgeI   HhaI        394.489529\n",
      "BsrGI  HhaI        393.665171\n",
      "dtype: float64\n"
     ]
    },
    {
     "data": {
      "image/png": "[encoded data removed]",
      "text/plain": [
       "<Figure size 1296x576 with 2 Axes>"
      ]
     },
     "metadata": {
      "needs_background": "light"
     },
     "output_type": "display_data"
    }
   ],
   "source": [
    "# Means\n",
    "        \n",
    "meanTop10 = meanDistr.unstack().nlargest(10)\n",
    "print(\"Top-10 enzymes with largest mean lengths\\n\")\n",
    "print(meanTop10)\n",
    "\n",
    "heatmap_(meanDistr,\"meansHeatmap\", \"Means\")"
   ]
  },
  {
   "cell_type": "code",
   "execution_count": 215,
   "id": "e401d8e5",
   "metadata": {},
   "outputs": [],
   "source": [
    "stdDown10 = stdDistr.unstack().nsmallest(10)\n",
    "#stdDown10"
   ]
  },
  {
   "cell_type": "code",
   "execution_count": 216,
   "id": "33763989",
   "metadata": {},
   "outputs": [
    {
     "name": "stdout",
     "output_type": "stream",
     "text": [
      "\n",
      "Best enzymes\n",
      "\n",
      "AseI     BfaI        0.726439\n",
      "         CviQI       0.714546\n",
      "         CviAII      0.678982\n",
      "NsiI     BfaI        0.601085\n",
      "         CviQI       0.589945\n",
      "HindIII  BfaI        0.583428\n",
      "AseI     HpyCH4IV    0.580393\n",
      "HindIII  CviQI       0.576091\n",
      "BclI     BfaI        0.561754\n",
      "BspHI    BfaI        0.558200\n",
      "dtype: float64\n"
     ]
    },
    {
     "data": {
      "image/png": "[encoded data removed]",
      "text/plain": [
       "<Figure size 1296x576 with 2 Axes>"
      ]
     },
     "metadata": {
      "needs_background": "light"
     },
     "output_type": "display_data"
    }
   ],
   "source": [
    "# Combine the above matrices and make totalStats data frame\n",
    "# For each couple of enzymes we have a statistic number sn in (0,1)\n",
    "# Close to 0 means low sum of lengths, low number of fragments, low mean length and high deviation whereas\n",
    "# Close to 1 means high sum of lengths, high number of fragments, high mean length and low deviation\n",
    "\n",
    "totalStats = pd.DataFrame(0., index = resMatDistr.index, columns = resMatDistr.columns)\n",
    "\n",
    "T=0\n",
    "\n",
    "for e1 in totalStats.index:\n",
    "    for e2 in totalStats.columns:\n",
    "        T += canLengths.loc[e1,e2]\n",
    "        T += canFrags.loc[e1,e2]\n",
    "        T += canMean.loc[e1,e2]\n",
    "        T += (1 - canStd.loc[e1,e2])\n",
    "        totalStats.loc[e1,e2] = T/4\n",
    "        T = 0\n",
    "\n",
    "totalStats\n",
    "\n",
    "totalTop10 = totalStats.unstack().nlargest(10)\n",
    "print(\"\\nBest enzymes\\n\")\n",
    "print(totalTop10)\n",
    "\n",
    "heatmap_(totalStats, \"TotalHeatmap\",\"\\nTotal Stats\")"
   ]
  },
  {
   "cell_type": "code",
   "execution_count": 217,
   "id": "4f241f6a",
   "metadata": {},
   "outputs": [
    {
     "name": "stdout",
     "output_type": "stream",
     "text": [
      "\n",
      "Top 5 for chromosome 10\n",
      "\n",
      "AseI  BfaI      0.726439\n",
      "      CviQI     0.714546\n",
      "      CviAII    0.678982\n",
      "NsiI  BfaI      0.601085\n",
      "      CviQI     0.589945\n",
      "dtype: float64\n",
      "- -- -- -- -- -- -- -- -- -- -- -- -- -- -- -- -- -- -- -- -\n",
      "\n",
      "Top 5 for chromosome 11\n",
      "\n",
      "AseI  BfaI      0.701529\n",
      "      CviQI     0.692023\n",
      "      CviAII    0.654394\n",
      "NsiI  BfaI      0.574243\n",
      "      CviQI     0.573190\n",
      "dtype: float64\n",
      "- -- -- -- -- -- -- -- -- -- -- -- -- -- -- -- -- -- -- -- -\n",
      "\n",
      "Top 5 for chromosome 12\n",
      "\n",
      "AseI  BfaI      0.702439\n",
      "      CviQI     0.683686\n",
      "      CviAII    0.654466\n",
      "NsiI  BfaI      0.577572\n",
      "      CviQI     0.572467\n",
      "dtype: float64\n",
      "- -- -- -- -- -- -- -- -- -- -- -- -- -- -- -- -- -- -- -- -\n",
      "\n",
      "Top 5 for chromosome 13\n",
      "\n",
      "AseI     BfaI      0.691298\n",
      "         CviQI     0.677781\n",
      "         CviAII    0.642373\n",
      "NsiI     BfaI      0.567237\n",
      "HindIII  BfaI      0.556156\n",
      "dtype: float64\n",
      "- -- -- -- -- -- -- -- -- -- -- -- -- -- -- -- -- -- -- -- -\n",
      "\n",
      "Top 5 for chromosome 14\n",
      "\n",
      "AseI  BfaI      0.638978\n",
      "      CviQI     0.621842\n",
      "      CviAII    0.593716\n",
      "NsiI  BfaI      0.512582\n",
      "      CviQI     0.499878\n",
      "dtype: float64\n",
      "- -- -- -- -- -- -- -- -- -- -- -- -- -- -- -- -- -- -- -- -\n",
      "\n",
      "Top 5 for chromosome 15\n",
      "\n",
      "AseI  BfaI      0.735896\n",
      "      CviQI     0.722272\n",
      "      CviAII    0.699041\n",
      "NsiI  BfaI      0.622539\n",
      "      CviQI     0.606809\n",
      "dtype: float64\n",
      "- -- -- -- -- -- -- -- -- -- -- -- -- -- -- -- -- -- -- -- -\n",
      "\n",
      "Top 5 for chromosome 16\n",
      "\n",
      "AseI   BfaI      0.606368\n",
      "       CviQI     0.582034\n",
      "       CviAII    0.565553\n",
      "AsiSI  HhaI      0.500171\n",
      "NsiI   BfaI      0.474702\n",
      "dtype: float64\n",
      "- -- -- -- -- -- -- -- -- -- -- -- -- -- -- -- -- -- -- -- -\n",
      "\n",
      "Top 5 for chromosome 17\n",
      "\n",
      "AseI  BfaI      0.637006\n",
      "      CviQI     0.610726\n",
      "      CviAII    0.601108\n",
      "NsiI  BfaI      0.518908\n",
      "      CviQI     0.510339\n",
      "dtype: float64\n",
      "- -- -- -- -- -- -- -- -- -- -- -- -- -- -- -- -- -- -- -- -\n",
      "\n",
      "Top 5 for chromosome 18\n",
      "\n",
      "AseI  BfaI      0.693031\n",
      "      CviQI     0.673575\n",
      "      CviAII    0.634337\n",
      "NsiI  CviQI     0.570708\n",
      "      BfaI      0.569855\n",
      "dtype: float64\n",
      "- -- -- -- -- -- -- -- -- -- -- -- -- -- -- -- -- -- -- -- -\n",
      "\n",
      "Top 5 for chromosome 19\n",
      "\n",
      "AseI  BfaI      0.672227\n",
      "      CviQI     0.650444\n",
      "      CviAII    0.635735\n",
      "NsiI  BfaI      0.546008\n",
      "      CviQI     0.530401\n",
      "dtype: float64\n",
      "- -- -- -- -- -- -- -- -- -- -- -- -- -- -- -- -- -- -- -- -\n",
      "\n",
      "Top 5 for chromosome 1\n",
      "\n",
      "AseI  BfaI      0.689444\n",
      "      CviQI     0.672984\n",
      "      CviAII    0.638729\n",
      "NsiI  BfaI      0.561879\n",
      "      CviQI     0.559766\n",
      "dtype: float64\n",
      "- -- -- -- -- -- -- -- -- -- -- -- -- -- -- -- -- -- -- -- -\n",
      "\n",
      "Top 5 for chromosome 2\n",
      "\n",
      "AseI  BfaI      0.734575\n",
      "      CviQI     0.720836\n",
      "      CviAII    0.688058\n",
      "NsiI  BfaI      0.611730\n",
      "      CviQI     0.602283\n",
      "dtype: float64\n",
      "- -- -- -- -- -- -- -- -- -- -- -- -- -- -- -- -- -- -- -- -\n",
      "\n",
      "Top 5 for chromosome 3\n",
      "\n",
      "AseI  BfaI      0.680004\n",
      "      CviQI     0.656949\n",
      "      CviAII    0.653639\n",
      "NsiI  BfaI      0.553892\n",
      "      CviQI     0.541596\n",
      "dtype: float64\n",
      "- -- -- -- -- -- -- -- -- -- -- -- -- -- -- -- -- -- -- -- -\n",
      "\n",
      "Top 5 for chromosome 4\n",
      "\n",
      "AseI  BfaI      0.647252\n",
      "      CviQI     0.627348\n",
      "      CviAII    0.593392\n",
      "NsiI  BfaI      0.509774\n",
      "      CviQI     0.504826\n",
      "dtype: float64\n",
      "- -- -- -- -- -- -- -- -- -- -- -- -- -- -- -- -- -- -- -- -\n"
     ]
    },
    {
     "name": "stderr",
     "output_type": "stream",
     "text": [
      "/home/loukas/.local/lib/python3.10/site-packages/numpy/core/fromnumeric.py:3504: RuntimeWarning: Mean of empty slice.\n",
      "  return _methods._mean(a, axis=axis, dtype=dtype,\n",
      "/home/loukas/.local/lib/python3.10/site-packages/numpy/core/_methods.py:129: RuntimeWarning: invalid value encountered in scalar divide\n",
      "  ret = ret.dtype.type(ret / rcount)\n",
      "/home/loukas/.local/lib/python3.10/site-packages/numpy/core/_methods.py:206: RuntimeWarning: Degrees of freedom <= 0 for slice\n",
      "  ret = _var(a, axis=axis, dtype=dtype, out=out, ddof=ddof,\n",
      "/home/loukas/.local/lib/python3.10/site-packages/numpy/core/_methods.py:163: RuntimeWarning: invalid value encountered in divide\n",
      "  arrmean = um.true_divide(arrmean, div, out=arrmean,\n",
      "/home/loukas/.local/lib/python3.10/site-packages/numpy/core/_methods.py:198: RuntimeWarning: invalid value encountered in scalar divide\n",
      "  ret = ret.dtype.type(ret / rcount)\n"
     ]
    },
    {
     "name": "stdout",
     "output_type": "stream",
     "text": [
      "\n",
      "Top 5 for chromosome 5\n",
      "\n",
      "AseI  BfaI      0.699617\n",
      "      CviQI     0.671815\n",
      "      CviAII    0.664566\n",
      "NsiI  BfaI      0.580766\n",
      "      CviQI     0.556974\n",
      "dtype: float64\n",
      "- -- -- -- -- -- -- -- -- -- -- -- -- -- -- -- -- -- -- -- -\n",
      "\n",
      "Top 5 for chromosome 6\n",
      "\n",
      "AseI  BfaI      0.732502\n",
      "      CviQI     0.714459\n",
      "      CviAII    0.690954\n",
      "NsiI  BfaI      0.597437\n",
      "      CviQI     0.583341\n",
      "dtype: float64\n",
      "- -- -- -- -- -- -- -- -- -- -- -- -- -- -- -- -- -- -- -- -\n",
      "\n",
      "Top 5 for chromosome 7\n",
      "\n",
      "AseI   BfaI      0.639498\n",
      "       CviQI     0.613447\n",
      "       CviAII    0.598490\n",
      "NsiI   BfaI      0.511694\n",
      "AsiSI  CviQI     0.500343\n",
      "dtype: float64\n",
      "- -- -- -- -- -- -- -- -- -- -- -- -- -- -- -- -- -- -- -- -\n",
      "\n",
      "Top 5 for chromosome 8\n",
      "\n",
      "AseI  BfaI        0.749103\n",
      "      CviQI       0.743543\n",
      "      CviAII      0.696735\n",
      "      HpyCH4IV    0.626042\n",
      "NsiI  CviQI       0.623638\n",
      "dtype: float64\n",
      "- -- -- -- -- -- -- -- -- -- -- -- -- -- -- -- -- -- -- -- -\n",
      "\n",
      "Top 5 for chromosome 9\n",
      "\n",
      "AseI     BfaI      0.687094\n",
      "         CviQI     0.666332\n",
      "         CviAII    0.646863\n",
      "NsiI     BfaI      0.551647\n",
      "HindIII  BfaI      0.541497\n",
      "dtype: float64\n",
      "- -- -- -- -- -- -- -- -- -- -- -- -- -- -- -- -- -- -- -- -\n"
     ]
    }
   ],
   "source": [
    "# find best enzymes for each chromosome\n",
    "# print the top-5 with statistic number\n",
    "\n",
    "for ch in seqs:\n",
    "    bb = build_matrices(int(ch.id))\n",
    "    \n",
    "    if bb==0:\n",
    "        meanDistr = resMatDistr.map(lambda x: np.mean(x))\n",
    "        stdDistr = resMatDistr.map(lambda x: np.std(x))\n",
    "\n",
    "        canLengths = pd.DataFrame(0, index=resMatLengths.index, columns = resMatLengths.columns)\n",
    "        canLengths = resMatLengths.map(lambda x: (x-min(resMatLengths.unstack())) / (max(resMatLengths.unstack()) - min(resMatLengths.unstack())) )\n",
    "\n",
    "        canMean = pd.DataFrame(0, index=meanDistr.index, columns = meanDistr.columns)\n",
    "        canMean = meanDistr.map(lambda x: (x-min(meanDistr.unstack())) / (max(meanDistr.unstack()) - min(meanDistr.unstack())) )\n",
    "\n",
    "        canStd = pd.DataFrame(0, index=stdDistr.index, columns = stdDistr.columns)\n",
    "        canStd = stdDistr.map(lambda x: (x-min(stdDistr.unstack())) / (max(stdDistr.unstack()) - min(stdDistr.unstack())) )\n",
    "\n",
    "        totalStats = pd.DataFrame(0., index = resMatDistr.index, columns = resMatDistr.columns)\n",
    "        T=0\n",
    "\n",
    "        for e1 in totalStats.index:\n",
    "            for e2 in totalStats.columns:\n",
    "                T += canLengths.loc[e1,e2]\n",
    "                T += canFrags.loc[e1,e2]\n",
    "                T += canMean.loc[e1,e2]\n",
    "                T += (1 - canStd.loc[e1,e2])\n",
    "                totalStats.loc[e1,e2] = T/4\n",
    "                T = 0\n",
    "\n",
    "        totalTop10 = totalStats.unstack().nlargest(5)\n",
    "        print(f\"\\nTop 5 for chromosome {ch.id}\\n\")\n",
    "        print(totalTop10)\n",
    "        print(20*\"- -\")"
   ]
  }
 ],
 "metadata": {
  "kernelspec": {
   "display_name": "Python 3 (ipykernel)",
   "language": "python",
   "name": "python3"
  },
  "language_info": {
   "codemirror_mode": {
    "name": "ipython",
    "version": 3
   },
   "file_extension": ".py",
   "mimetype": "text/x-python",
   "name": "python",
   "nbconvert_exporter": "python",
   "pygments_lexer": "ipython3",
   "version": "3.10.12"
  }
 },
 "nbformat": 4,
 "nbformat_minor": 5
}
